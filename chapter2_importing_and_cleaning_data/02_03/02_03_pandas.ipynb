{
 "cells": [
  {
   "cell_type": "markdown",
   "metadata": {},
   "source": [
    "## Python statistics essential training - 02_03_pandas"
   ]
  },
  {
   "cell_type": "markdown",
   "metadata": {},
   "source": [
    "Standard imports"
   ]
  },
  {
   "cell_type": "code",
   "execution_count": 1,
   "metadata": {},
   "outputs": [],
   "source": [
    "import numpy as np\n",
    "import pandas as pd\n",
    "\n",
    "import matplotlib\n",
    "import matplotlib.pyplot as pp\n",
    "\n",
    "%matplotlib inline"
   ]
  },
  {
   "cell_type": "code",
   "execution_count": 2,
   "metadata": {},
   "outputs": [],
   "source": [
    "planets = pd.read_csv('Planets.csv')"
   ]
  },
  {
   "cell_type": "code",
   "execution_count": 3,
   "outputs": [
    {
     "data": {
      "text/plain": "    Planet       Mass Diameter  DayLength  SunDistance OrbitPeriod  \\\n0  MERCURY     0.3300     4879     4222.6         57.9          88   \n1    VENUS     4.8700   12,104     2802.0        108.2       224.7   \n2    EARTH     5.9700   12,756       24.0        149.6       365.2   \n3     MOON     0.0730     3475      708.7          NaN        27.3   \n4     MARS     0.6420     6792       24.7        227.9         687   \n5  JUPITER  1898.0000  142,984        9.9        778.6        4331   \n6   SATURN   568.0000  120,536       10.7       1433.5      10,747   \n7   URANUS    86.8000   51,118       17.2       2872.5      30,589   \n8  NEPTUNE   102.0000   49,528       16.1       4495.1      59,800   \n9    PLUTO     0.0146     2370      153.3       5906.4      90,560   \n\n   OrbitVelocity  MeanTemperature  SurfacePressure  Moons Rings MagneticField  \\\n0           47.4              167          0.00000      0    No           Yes   \n1           35.0              464         92.00000      0    No            No   \n2           29.8               15          1.00000      1    No           Yes   \n3            1.0              -20          0.00000      0    No            No   \n4           24.1              -65          0.01000      2    No            No   \n5           13.1             -110              NaN     67   Yes           Yes   \n6            9.7             -140              NaN     62   Yes           Yes   \n7            6.8             -195              NaN     27   Yes           Yes   \n8            5.4             -200              NaN     14   Yes           Yes   \n9            4.7             -225          0.00001      5    No           NaN   \n\n  FirstVisited  FirstMission  \n0   1974-03-29    Mariner 10  \n1   1962-08-27     Mariner 2  \n2          NaN           NaN  \n3   1959-09-12        Luna 2  \n4   1965-07-15     Mariner 4  \n5   1973-12-04    Pioneer 10  \n6   1979-09-01    Pioneer 11  \n7   1986-01-24     Voyager 2  \n8   1989-08-25     Voyager 2  \n9   2015-07-14  New Horizons  ",
      "text/html": "<div>\n<style scoped>\n    .dataframe tbody tr th:only-of-type {\n        vertical-align: middle;\n    }\n\n    .dataframe tbody tr th {\n        vertical-align: top;\n    }\n\n    .dataframe thead th {\n        text-align: right;\n    }\n</style>\n<table border=\"1\" class=\"dataframe\">\n  <thead>\n    <tr style=\"text-align: right;\">\n      <th></th>\n      <th>Planet</th>\n      <th>Mass</th>\n      <th>Diameter</th>\n      <th>DayLength</th>\n      <th>SunDistance</th>\n      <th>OrbitPeriod</th>\n      <th>OrbitVelocity</th>\n      <th>MeanTemperature</th>\n      <th>SurfacePressure</th>\n      <th>Moons</th>\n      <th>Rings</th>\n      <th>MagneticField</th>\n      <th>FirstVisited</th>\n      <th>FirstMission</th>\n    </tr>\n  </thead>\n  <tbody>\n    <tr>\n      <th>0</th>\n      <td>MERCURY</td>\n      <td>0.3300</td>\n      <td>4879</td>\n      <td>4222.6</td>\n      <td>57.9</td>\n      <td>88</td>\n      <td>47.4</td>\n      <td>167</td>\n      <td>0.00000</td>\n      <td>0</td>\n      <td>No</td>\n      <td>Yes</td>\n      <td>1974-03-29</td>\n      <td>Mariner 10</td>\n    </tr>\n    <tr>\n      <th>1</th>\n      <td>VENUS</td>\n      <td>4.8700</td>\n      <td>12,104</td>\n      <td>2802.0</td>\n      <td>108.2</td>\n      <td>224.7</td>\n      <td>35.0</td>\n      <td>464</td>\n      <td>92.00000</td>\n      <td>0</td>\n      <td>No</td>\n      <td>No</td>\n      <td>1962-08-27</td>\n      <td>Mariner 2</td>\n    </tr>\n    <tr>\n      <th>2</th>\n      <td>EARTH</td>\n      <td>5.9700</td>\n      <td>12,756</td>\n      <td>24.0</td>\n      <td>149.6</td>\n      <td>365.2</td>\n      <td>29.8</td>\n      <td>15</td>\n      <td>1.00000</td>\n      <td>1</td>\n      <td>No</td>\n      <td>Yes</td>\n      <td>NaN</td>\n      <td>NaN</td>\n    </tr>\n    <tr>\n      <th>3</th>\n      <td>MOON</td>\n      <td>0.0730</td>\n      <td>3475</td>\n      <td>708.7</td>\n      <td>NaN</td>\n      <td>27.3</td>\n      <td>1.0</td>\n      <td>-20</td>\n      <td>0.00000</td>\n      <td>0</td>\n      <td>No</td>\n      <td>No</td>\n      <td>1959-09-12</td>\n      <td>Luna 2</td>\n    </tr>\n    <tr>\n      <th>4</th>\n      <td>MARS</td>\n      <td>0.6420</td>\n      <td>6792</td>\n      <td>24.7</td>\n      <td>227.9</td>\n      <td>687</td>\n      <td>24.1</td>\n      <td>-65</td>\n      <td>0.01000</td>\n      <td>2</td>\n      <td>No</td>\n      <td>No</td>\n      <td>1965-07-15</td>\n      <td>Mariner 4</td>\n    </tr>\n    <tr>\n      <th>5</th>\n      <td>JUPITER</td>\n      <td>1898.0000</td>\n      <td>142,984</td>\n      <td>9.9</td>\n      <td>778.6</td>\n      <td>4331</td>\n      <td>13.1</td>\n      <td>-110</td>\n      <td>NaN</td>\n      <td>67</td>\n      <td>Yes</td>\n      <td>Yes</td>\n      <td>1973-12-04</td>\n      <td>Pioneer 10</td>\n    </tr>\n    <tr>\n      <th>6</th>\n      <td>SATURN</td>\n      <td>568.0000</td>\n      <td>120,536</td>\n      <td>10.7</td>\n      <td>1433.5</td>\n      <td>10,747</td>\n      <td>9.7</td>\n      <td>-140</td>\n      <td>NaN</td>\n      <td>62</td>\n      <td>Yes</td>\n      <td>Yes</td>\n      <td>1979-09-01</td>\n      <td>Pioneer 11</td>\n    </tr>\n    <tr>\n      <th>7</th>\n      <td>URANUS</td>\n      <td>86.8000</td>\n      <td>51,118</td>\n      <td>17.2</td>\n      <td>2872.5</td>\n      <td>30,589</td>\n      <td>6.8</td>\n      <td>-195</td>\n      <td>NaN</td>\n      <td>27</td>\n      <td>Yes</td>\n      <td>Yes</td>\n      <td>1986-01-24</td>\n      <td>Voyager 2</td>\n    </tr>\n    <tr>\n      <th>8</th>\n      <td>NEPTUNE</td>\n      <td>102.0000</td>\n      <td>49,528</td>\n      <td>16.1</td>\n      <td>4495.1</td>\n      <td>59,800</td>\n      <td>5.4</td>\n      <td>-200</td>\n      <td>NaN</td>\n      <td>14</td>\n      <td>Yes</td>\n      <td>Yes</td>\n      <td>1989-08-25</td>\n      <td>Voyager 2</td>\n    </tr>\n    <tr>\n      <th>9</th>\n      <td>PLUTO</td>\n      <td>0.0146</td>\n      <td>2370</td>\n      <td>153.3</td>\n      <td>5906.4</td>\n      <td>90,560</td>\n      <td>4.7</td>\n      <td>-225</td>\n      <td>0.00001</td>\n      <td>5</td>\n      <td>No</td>\n      <td>NaN</td>\n      <td>2015-07-14</td>\n      <td>New Horizons</td>\n    </tr>\n  </tbody>\n</table>\n</div>"
     },
     "execution_count": 3,
     "metadata": {},
     "output_type": "execute_result"
    }
   ],
   "source": [
    "planets"
   ],
   "metadata": {
    "collapsed": false,
    "pycharm": {
     "name": "#%%\n"
    }
   }
  },
  {
   "cell_type": "code",
   "execution_count": 4,
   "outputs": [],
   "source": [
    "# Subset of columns\n",
    "planets = pd.read_csv('Planets.csv', usecols=[0, 1, 2, 3])"
   ],
   "metadata": {
    "collapsed": false,
    "pycharm": {
     "name": "#%%\n"
    }
   }
  },
  {
   "cell_type": "code",
   "execution_count": 6,
   "outputs": [
    {
     "data": {
      "text/plain": "    Planet       Mass Diameter  DayLength\n0  MERCURY     0.3300     4879     4222.6\n1    VENUS     4.8700   12,104     2802.0\n2    EARTH     5.9700   12,756       24.0\n3     MOON     0.0730     3475      708.7\n4     MARS     0.6420     6792       24.7\n5  JUPITER  1898.0000  142,984        9.9\n6   SATURN   568.0000  120,536       10.7\n7   URANUS    86.8000   51,118       17.2\n8  NEPTUNE   102.0000   49,528       16.1\n9    PLUTO     0.0146     2370      153.3",
      "text/html": "<div>\n<style scoped>\n    .dataframe tbody tr th:only-of-type {\n        vertical-align: middle;\n    }\n\n    .dataframe tbody tr th {\n        vertical-align: top;\n    }\n\n    .dataframe thead th {\n        text-align: right;\n    }\n</style>\n<table border=\"1\" class=\"dataframe\">\n  <thead>\n    <tr style=\"text-align: right;\">\n      <th></th>\n      <th>Planet</th>\n      <th>Mass</th>\n      <th>Diameter</th>\n      <th>DayLength</th>\n    </tr>\n  </thead>\n  <tbody>\n    <tr>\n      <th>0</th>\n      <td>MERCURY</td>\n      <td>0.3300</td>\n      <td>4879</td>\n      <td>4222.6</td>\n    </tr>\n    <tr>\n      <th>1</th>\n      <td>VENUS</td>\n      <td>4.8700</td>\n      <td>12,104</td>\n      <td>2802.0</td>\n    </tr>\n    <tr>\n      <th>2</th>\n      <td>EARTH</td>\n      <td>5.9700</td>\n      <td>12,756</td>\n      <td>24.0</td>\n    </tr>\n    <tr>\n      <th>3</th>\n      <td>MOON</td>\n      <td>0.0730</td>\n      <td>3475</td>\n      <td>708.7</td>\n    </tr>\n    <tr>\n      <th>4</th>\n      <td>MARS</td>\n      <td>0.6420</td>\n      <td>6792</td>\n      <td>24.7</td>\n    </tr>\n    <tr>\n      <th>5</th>\n      <td>JUPITER</td>\n      <td>1898.0000</td>\n      <td>142,984</td>\n      <td>9.9</td>\n    </tr>\n    <tr>\n      <th>6</th>\n      <td>SATURN</td>\n      <td>568.0000</td>\n      <td>120,536</td>\n      <td>10.7</td>\n    </tr>\n    <tr>\n      <th>7</th>\n      <td>URANUS</td>\n      <td>86.8000</td>\n      <td>51,118</td>\n      <td>17.2</td>\n    </tr>\n    <tr>\n      <th>8</th>\n      <td>NEPTUNE</td>\n      <td>102.0000</td>\n      <td>49,528</td>\n      <td>16.1</td>\n    </tr>\n    <tr>\n      <th>9</th>\n      <td>PLUTO</td>\n      <td>0.0146</td>\n      <td>2370</td>\n      <td>153.3</td>\n    </tr>\n  </tbody>\n</table>\n</div>"
     },
     "execution_count": 6,
     "metadata": {},
     "output_type": "execute_result"
    }
   ],
   "source": [
    "planets"
   ],
   "metadata": {
    "collapsed": false,
    "pycharm": {
     "name": "#%%\n"
    }
   }
  },
  {
   "cell_type": "code",
   "execution_count": null,
   "outputs": [],
   "source": [
    "planets['Mass']"
   ],
   "metadata": {
    "collapsed": false,
    "pycharm": {
     "name": "#%%\n"
    }
   }
  },
  {
   "cell_type": "code",
   "execution_count": null,
   "outputs": [],
   "source": [
    "# Dot notation\n",
    "planets.Mass"
   ],
   "metadata": {
    "collapsed": false,
    "pycharm": {
     "name": "#%%\n"
    }
   }
  },
  {
   "cell_type": "code",
   "execution_count": 7,
   "outputs": [
    {
     "data": {
      "text/plain": "RangeIndex(start=0, stop=10, step=1)"
     },
     "execution_count": 7,
     "metadata": {},
     "output_type": "execute_result"
    }
   ],
   "source": [
    "planets.index"
   ],
   "metadata": {
    "collapsed": false,
    "pycharm": {
     "name": "#%%\n"
    }
   }
  },
  {
   "cell_type": "code",
   "execution_count": 8,
   "outputs": [
    {
     "data": {
      "text/plain": "Planet       MERCURY\nMass            0.33\nDiameter        4879\nDayLength     4222.6\nName: 0, dtype: object"
     },
     "execution_count": 8,
     "metadata": {},
     "output_type": "execute_result"
    }
   ],
   "source": [
    "planets.loc[0]"
   ],
   "metadata": {
    "collapsed": false,
    "pycharm": {
     "name": "#%%\n"
    }
   }
  },
  {
   "cell_type": "code",
   "execution_count": 9,
   "outputs": [],
   "source": [
    "planets.set_index('Planet', inplace=True)"
   ],
   "metadata": {
    "collapsed": false,
    "pycharm": {
     "name": "#%%\n"
    }
   }
  },
  {
   "cell_type": "code",
   "execution_count": null,
   "outputs": [],
   "source": [
    "planets"
   ],
   "metadata": {
    "collapsed": false,
    "pycharm": {
     "name": "#%%\n"
    }
   }
  },
  {
   "cell_type": "code",
   "execution_count": 10,
   "outputs": [
    {
     "name": "stdout",
     "output_type": "stream",
     "text": [
      "<class 'pandas.core.frame.DataFrame'>\n",
      "Index: 10 entries, MERCURY to PLUTO\n",
      "Data columns (total 3 columns):\n",
      " #   Column     Non-Null Count  Dtype  \n",
      "---  ------     --------------  -----  \n",
      " 0   Mass       10 non-null     float64\n",
      " 1   Diameter   10 non-null     object \n",
      " 2   DayLength  10 non-null     float64\n",
      "dtypes: float64(2), object(1)\n",
      "memory usage: 320.0+ bytes\n"
     ]
    }
   ],
   "source": [
    "planets.info()"
   ],
   "metadata": {
    "collapsed": false,
    "pycharm": {
     "name": "#%%\n"
    }
   }
  },
  {
   "cell_type": "code",
   "execution_count": 11,
   "outputs": [
    {
     "data": {
      "text/plain": "10"
     },
     "execution_count": 11,
     "metadata": {},
     "output_type": "execute_result"
    }
   ],
   "source": [
    "len(planets)"
   ],
   "metadata": {
    "collapsed": false,
    "pycharm": {
     "name": "#%%\n"
    }
   }
  },
  {
   "cell_type": "code",
   "execution_count": null,
   "outputs": [],
   "source": [
    "planets.loc['MERCURY']"
   ],
   "metadata": {
    "collapsed": false,
    "pycharm": {
     "name": "#%%\n"
    }
   }
  },
  {
   "cell_type": "code",
   "execution_count": null,
   "outputs": [],
   "source": [
    "planets.loc['MERCURY' : 'EARTH']"
   ],
   "metadata": {
    "collapsed": false,
    "pycharm": {
     "name": "#%%\n"
    }
   }
  },
  {
   "cell_type": "code",
   "execution_count": 12,
   "outputs": [
    {
     "data": {
      "text/plain": "Index(['Mass', 'Diameter', 'DayLength'], dtype='object')"
     },
     "execution_count": 12,
     "metadata": {},
     "output_type": "execute_result"
    }
   ],
   "source": [
    "planets.columns"
   ],
   "metadata": {
    "collapsed": false,
    "pycharm": {
     "name": "#%%\n"
    }
   }
  },
  {
   "cell_type": "code",
   "execution_count": 13,
   "outputs": [],
   "source": [
    "planets = pd.read_csv('Planets.csv')"
   ],
   "metadata": {
    "collapsed": false,
    "pycharm": {
     "name": "#%%\n"
    }
   }
  },
  {
   "cell_type": "code",
   "execution_count": 14,
   "outputs": [],
   "source": [
    "planets.set_index('Planet', inplace=True)"
   ],
   "metadata": {
    "collapsed": false,
    "pycharm": {
     "name": "#%%\n"
    }
   }
  },
  {
   "cell_type": "code",
   "execution_count": 15,
   "outputs": [
    {
     "data": {
      "text/plain": "'1974-03-29'"
     },
     "execution_count": 15,
     "metadata": {},
     "output_type": "execute_result"
    }
   ],
   "source": [
    "planets.FirstVisited['MERCURY']"
   ],
   "metadata": {
    "collapsed": false,
    "pycharm": {
     "name": "#%%\n"
    }
   }
  },
  {
   "cell_type": "code",
   "execution_count": 16,
   "outputs": [
    {
     "data": {
      "text/plain": "'1974-03-29'"
     },
     "execution_count": 16,
     "metadata": {},
     "output_type": "execute_result"
    }
   ],
   "source": [
    "planets.loc['MERCURY'].FirstVisited"
   ],
   "metadata": {
    "collapsed": false,
    "pycharm": {
     "name": "#%%\n"
    }
   }
  },
  {
   "cell_type": "code",
   "execution_count": 17,
   "outputs": [
    {
     "data": {
      "text/plain": "'1974-03-29'"
     },
     "execution_count": 17,
     "metadata": {},
     "output_type": "execute_result"
    }
   ],
   "source": [
    "planets.loc['MERCURY', 'FirstVisited']"
   ],
   "metadata": {
    "collapsed": false,
    "pycharm": {
     "name": "#%%\n"
    }
   }
  },
  {
   "cell_type": "code",
   "execution_count": null,
   "outputs": [],
   "source": [
    "type(planets.loc['MERCURY', 'FirstVisited'])"
   ],
   "metadata": {
    "collapsed": false,
    "pycharm": {
     "name": "#%%\n"
    }
   }
  },
  {
   "cell_type": "code",
   "execution_count": 18,
   "outputs": [
    {
     "data": {
      "text/plain": "Planet\nMERCURY   1974-03-29\nVENUS     1962-08-27\nEARTH            NaT\nMOON      1959-09-12\nMARS      1965-07-15\nJUPITER   1973-12-04\nSATURN    1979-09-01\nURANUS    1986-01-24\nNEPTUNE   1989-08-25\nPLUTO     2015-07-14\nName: FirstVisited, dtype: datetime64[ns]"
     },
     "execution_count": 18,
     "metadata": {},
     "output_type": "execute_result"
    }
   ],
   "source": [
    "pd.to_datetime(planets.FirstVisited)"
   ],
   "metadata": {
    "collapsed": false,
    "pycharm": {
     "name": "#%%\n"
    }
   }
  },
  {
   "cell_type": "code",
   "execution_count": 19,
   "outputs": [],
   "source": [
    "planets.FirstVisited = pd.to_datetime(planets.FirstVisited)"
   ],
   "metadata": {
    "collapsed": false,
    "pycharm": {
     "name": "#%%\n"
    }
   }
  },
  {
   "cell_type": "code",
   "execution_count": null,
   "outputs": [],
   "source": [
    "planets.FirstVisited.dt.year"
   ],
   "metadata": {
    "collapsed": false,
    "pycharm": {
     "name": "#%%\n"
    }
   }
  },
  {
   "cell_type": "code",
   "execution_count": 20,
   "outputs": [
    {
     "data": {
      "text/plain": "Planet\nMERCURY    44.0\nVENUS      56.0\nEARTH       NaN\nMOON       59.0\nMARS       53.0\nJUPITER    45.0\nSATURN     39.0\nURANUS     32.0\nNEPTUNE    29.0\nPLUTO       3.0\nName: FirstVisited, dtype: float64"
     },
     "execution_count": 20,
     "metadata": {},
     "output_type": "execute_result"
    }
   ],
   "source": [
    "2018 - planets.FirstVisited.dt.year"
   ],
   "metadata": {
    "collapsed": false,
    "pycharm": {
     "name": "#%%\n"
    }
   }
  }
 ],
 "metadata": {
  "kernelspec": {
   "display_name": "Python 3",
   "language": "python",
   "name": "python3"
  },
  "language_info": {
   "codemirror_mode": {
    "name": "ipython",
    "version": 3
   },
   "file_extension": ".py",
   "mimetype": "text/x-python",
   "name": "python",
   "nbconvert_exporter": "python",
   "pygments_lexer": "ipython3",
   "version": "3.6.4"
  },
  "toc": {
   "base_numbering": 1,
   "nav_menu": {},
   "number_sections": true,
   "sideBar": true,
   "skip_h1_title": false,
   "title_cell": "Table of Contents",
   "title_sidebar": "Contents",
   "toc_cell": false,
   "toc_position": {},
   "toc_section_display": true,
   "toc_window_display": false
  }
 },
 "nbformat": 4,
 "nbformat_minor": 2
}
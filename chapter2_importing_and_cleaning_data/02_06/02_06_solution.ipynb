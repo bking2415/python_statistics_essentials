{
 "cells": [
  {
   "cell_type": "markdown",
   "metadata": {},
   "source": [
    "## Python statistics essential training - 02_06_solution"
   ]
  },
  {
   "cell_type": "markdown",
   "metadata": {},
   "source": [
    "Standard imports"
   ]
  },
  {
   "cell_type": "code",
   "execution_count": 2,
   "metadata": {},
   "outputs": [],
   "source": [
    "import numpy as np\n",
    "import pandas as pd\n",
    "\n",
    "import matplotlib\n",
    "import matplotlib.pyplot as pp\n",
    "\n",
    "%matplotlib inline"
   ]
  },
  {
   "cell_type": "code",
   "execution_count": 3,
   "metadata": {},
   "outputs": [],
   "source": [
    "tb = pd.read_csv('tb.csv')"
   ]
  },
  {
   "cell_type": "code",
   "execution_count": 4,
   "metadata": {},
   "outputs": [
    {
     "data": {
      "text/plain": "  country  year  m04  m514  m014  m1524  m2534  m3544  m4554  m5564  ...  f04  \\\n0      AD  1989  NaN   NaN   NaN    NaN    NaN    NaN    NaN    NaN  ...  NaN   \n1      AD  1990  NaN   NaN   NaN    NaN    NaN    NaN    NaN    NaN  ...  NaN   \n2      AD  1991  NaN   NaN   NaN    NaN    NaN    NaN    NaN    NaN  ...  NaN   \n3      AD  1992  NaN   NaN   NaN    NaN    NaN    NaN    NaN    NaN  ...  NaN   \n4      AD  1993  NaN   NaN   NaN    NaN    NaN    NaN    NaN    NaN  ...  NaN   \n\n   f514  f014  f1524  f2534  f3544  f4554  f5564  f65  fu  \n0   NaN   NaN    NaN    NaN    NaN    NaN    NaN  NaN NaN  \n1   NaN   NaN    NaN    NaN    NaN    NaN    NaN  NaN NaN  \n2   NaN   NaN    NaN    NaN    NaN    NaN    NaN  NaN NaN  \n3   NaN   NaN    NaN    NaN    NaN    NaN    NaN  NaN NaN  \n4   NaN   NaN    NaN    NaN    NaN    NaN    NaN  NaN NaN  \n\n[5 rows x 22 columns]",
      "text/html": "<div>\n<style scoped>\n    .dataframe tbody tr th:only-of-type {\n        vertical-align: middle;\n    }\n\n    .dataframe tbody tr th {\n        vertical-align: top;\n    }\n\n    .dataframe thead th {\n        text-align: right;\n    }\n</style>\n<table border=\"1\" class=\"dataframe\">\n  <thead>\n    <tr style=\"text-align: right;\">\n      <th></th>\n      <th>country</th>\n      <th>year</th>\n      <th>m04</th>\n      <th>m514</th>\n      <th>m014</th>\n      <th>m1524</th>\n      <th>m2534</th>\n      <th>m3544</th>\n      <th>m4554</th>\n      <th>m5564</th>\n      <th>...</th>\n      <th>f04</th>\n      <th>f514</th>\n      <th>f014</th>\n      <th>f1524</th>\n      <th>f2534</th>\n      <th>f3544</th>\n      <th>f4554</th>\n      <th>f5564</th>\n      <th>f65</th>\n      <th>fu</th>\n    </tr>\n  </thead>\n  <tbody>\n    <tr>\n      <th>0</th>\n      <td>AD</td>\n      <td>1989</td>\n      <td>NaN</td>\n      <td>NaN</td>\n      <td>NaN</td>\n      <td>NaN</td>\n      <td>NaN</td>\n      <td>NaN</td>\n      <td>NaN</td>\n      <td>NaN</td>\n      <td>...</td>\n      <td>NaN</td>\n      <td>NaN</td>\n      <td>NaN</td>\n      <td>NaN</td>\n      <td>NaN</td>\n      <td>NaN</td>\n      <td>NaN</td>\n      <td>NaN</td>\n      <td>NaN</td>\n      <td>NaN</td>\n    </tr>\n    <tr>\n      <th>1</th>\n      <td>AD</td>\n      <td>1990</td>\n      <td>NaN</td>\n      <td>NaN</td>\n      <td>NaN</td>\n      <td>NaN</td>\n      <td>NaN</td>\n      <td>NaN</td>\n      <td>NaN</td>\n      <td>NaN</td>\n      <td>...</td>\n      <td>NaN</td>\n      <td>NaN</td>\n      <td>NaN</td>\n      <td>NaN</td>\n      <td>NaN</td>\n      <td>NaN</td>\n      <td>NaN</td>\n      <td>NaN</td>\n      <td>NaN</td>\n      <td>NaN</td>\n    </tr>\n    <tr>\n      <th>2</th>\n      <td>AD</td>\n      <td>1991</td>\n      <td>NaN</td>\n      <td>NaN</td>\n      <td>NaN</td>\n      <td>NaN</td>\n      <td>NaN</td>\n      <td>NaN</td>\n      <td>NaN</td>\n      <td>NaN</td>\n      <td>...</td>\n      <td>NaN</td>\n      <td>NaN</td>\n      <td>NaN</td>\n      <td>NaN</td>\n      <td>NaN</td>\n      <td>NaN</td>\n      <td>NaN</td>\n      <td>NaN</td>\n      <td>NaN</td>\n      <td>NaN</td>\n    </tr>\n    <tr>\n      <th>3</th>\n      <td>AD</td>\n      <td>1992</td>\n      <td>NaN</td>\n      <td>NaN</td>\n      <td>NaN</td>\n      <td>NaN</td>\n      <td>NaN</td>\n      <td>NaN</td>\n      <td>NaN</td>\n      <td>NaN</td>\n      <td>...</td>\n      <td>NaN</td>\n      <td>NaN</td>\n      <td>NaN</td>\n      <td>NaN</td>\n      <td>NaN</td>\n      <td>NaN</td>\n      <td>NaN</td>\n      <td>NaN</td>\n      <td>NaN</td>\n      <td>NaN</td>\n    </tr>\n    <tr>\n      <th>4</th>\n      <td>AD</td>\n      <td>1993</td>\n      <td>NaN</td>\n      <td>NaN</td>\n      <td>NaN</td>\n      <td>NaN</td>\n      <td>NaN</td>\n      <td>NaN</td>\n      <td>NaN</td>\n      <td>NaN</td>\n      <td>...</td>\n      <td>NaN</td>\n      <td>NaN</td>\n      <td>NaN</td>\n      <td>NaN</td>\n      <td>NaN</td>\n      <td>NaN</td>\n      <td>NaN</td>\n      <td>NaN</td>\n      <td>NaN</td>\n      <td>NaN</td>\n    </tr>\n  </tbody>\n</table>\n<p>5 rows × 22 columns</p>\n</div>"
     },
     "execution_count": 4,
     "metadata": {},
     "output_type": "execute_result"
    }
   ],
   "source": [
    "tb.head()"
   ]
  },
  {
   "cell_type": "code",
   "execution_count": 5,
   "metadata": {},
   "outputs": [
    {
     "data": {
      "text/plain": "Index(['country', 'year', 'm04', 'm514', 'm014', 'm1524', 'm2534', 'm3544',\n       'm4554', 'm5564', 'm65', 'mu', 'f04', 'f514', 'f014', 'f1524', 'f2534',\n       'f3544', 'f4554', 'f5564', 'f65', 'fu'],\n      dtype='object')"
     },
     "execution_count": 5,
     "metadata": {},
     "output_type": "execute_result"
    }
   ],
   "source": [
    "tb.columns"
   ]
  },
  {
   "cell_type": "code",
   "execution_count": 6,
   "metadata": {},
   "outputs": [],
   "source": [
    "# Melt the dataset (Convert multiple columns into 2 columns)\n",
    "# Column 1 is name (i.e., sexage)\n",
    "# Column 2 is value (i.e., case)\n",
    "melted = tb.melt(['country','year'],['m04', 'm514', 'm014', 'm1524', 'm2534', 'm3544',\n",
    "       'm4554', 'm5564', 'm65', 'mu', 'f04', 'f514', 'f014', 'f1524', 'f2534',\n",
    "       'f3544', 'f4554', 'f5564', 'f65', 'fu'],'sexage','cases')"
   ]
  },
  {
   "cell_type": "code",
   "execution_count": 7,
   "metadata": {},
   "outputs": [
    {
     "data": {
      "text/plain": "  country  year sexage  cases\n0      AD  1989    m04    NaN\n1      AD  1990    m04    NaN\n2      AD  1991    m04    NaN\n3      AD  1992    m04    NaN\n4      AD  1993    m04    NaN",
      "text/html": "<div>\n<style scoped>\n    .dataframe tbody tr th:only-of-type {\n        vertical-align: middle;\n    }\n\n    .dataframe tbody tr th {\n        vertical-align: top;\n    }\n\n    .dataframe thead th {\n        text-align: right;\n    }\n</style>\n<table border=\"1\" class=\"dataframe\">\n  <thead>\n    <tr style=\"text-align: right;\">\n      <th></th>\n      <th>country</th>\n      <th>year</th>\n      <th>sexage</th>\n      <th>cases</th>\n    </tr>\n  </thead>\n  <tbody>\n    <tr>\n      <th>0</th>\n      <td>AD</td>\n      <td>1989</td>\n      <td>m04</td>\n      <td>NaN</td>\n    </tr>\n    <tr>\n      <th>1</th>\n      <td>AD</td>\n      <td>1990</td>\n      <td>m04</td>\n      <td>NaN</td>\n    </tr>\n    <tr>\n      <th>2</th>\n      <td>AD</td>\n      <td>1991</td>\n      <td>m04</td>\n      <td>NaN</td>\n    </tr>\n    <tr>\n      <th>3</th>\n      <td>AD</td>\n      <td>1992</td>\n      <td>m04</td>\n      <td>NaN</td>\n    </tr>\n    <tr>\n      <th>4</th>\n      <td>AD</td>\n      <td>1993</td>\n      <td>m04</td>\n      <td>NaN</td>\n    </tr>\n  </tbody>\n</table>\n</div>"
     },
     "execution_count": 7,
     "metadata": {},
     "output_type": "execute_result"
    }
   ],
   "source": [
    "melted.head()"
   ]
  },
  {
   "cell_type": "code",
   "execution_count": 8,
   "metadata": {},
   "outputs": [],
   "source": [
    "# Seperate column in to 2 columns by slicing\n",
    "melted['sex'] = melted['sexage'].str.slice(0,1)\n",
    "melted['age'] = melted['sexage'].str.slice(1)"
   ]
  },
  {
   "cell_type": "code",
   "execution_count": 19,
   "metadata": {},
   "outputs": [
    {
     "data": {
      "text/plain": "  country  year sexage  cases sex  age\n0      AD  1989    m04    NaN   m  0-4\n1      AD  1990    m04    NaN   m  0-4\n2      AD  1991    m04    NaN   m  0-4\n3      AD  1992    m04    NaN   m  0-4\n4      AD  1993    m04    NaN   m  0-4",
      "text/html": "<div>\n<style scoped>\n    .dataframe tbody tr th:only-of-type {\n        vertical-align: middle;\n    }\n\n    .dataframe tbody tr th {\n        vertical-align: top;\n    }\n\n    .dataframe thead th {\n        text-align: right;\n    }\n</style>\n<table border=\"1\" class=\"dataframe\">\n  <thead>\n    <tr style=\"text-align: right;\">\n      <th></th>\n      <th>country</th>\n      <th>year</th>\n      <th>sexage</th>\n      <th>cases</th>\n      <th>sex</th>\n      <th>age</th>\n    </tr>\n  </thead>\n  <tbody>\n    <tr>\n      <th>0</th>\n      <td>AD</td>\n      <td>1989</td>\n      <td>m04</td>\n      <td>NaN</td>\n      <td>m</td>\n      <td>0-4</td>\n    </tr>\n    <tr>\n      <th>1</th>\n      <td>AD</td>\n      <td>1990</td>\n      <td>m04</td>\n      <td>NaN</td>\n      <td>m</td>\n      <td>0-4</td>\n    </tr>\n    <tr>\n      <th>2</th>\n      <td>AD</td>\n      <td>1991</td>\n      <td>m04</td>\n      <td>NaN</td>\n      <td>m</td>\n      <td>0-4</td>\n    </tr>\n    <tr>\n      <th>3</th>\n      <td>AD</td>\n      <td>1992</td>\n      <td>m04</td>\n      <td>NaN</td>\n      <td>m</td>\n      <td>0-4</td>\n    </tr>\n    <tr>\n      <th>4</th>\n      <td>AD</td>\n      <td>1993</td>\n      <td>m04</td>\n      <td>NaN</td>\n      <td>m</td>\n      <td>0-4</td>\n    </tr>\n  </tbody>\n</table>\n</div>"
     },
     "execution_count": 19,
     "metadata": {},
     "output_type": "execute_result"
    }
   ],
   "source": [
    "melted.head()"
   ]
  },
  {
   "cell_type": "code",
   "execution_count": 20,
   "metadata": {},
   "outputs": [],
   "source": [
    "# Map age ranges using dictionary\n",
    "melted['age'] = melted['age'].map({'04': '0-4', '514': '5-14', '1524': '15-24', '2534': '25-34', '3544': '35-44',\n",
    "                                   '4554': '45-54', '5564': '55-64', '65': '65+', 'u': np.nan})"
   ]
  },
  {
   "cell_type": "code",
   "execution_count": 11,
   "metadata": {},
   "outputs": [
    {
     "data": {
      "text/plain": "0         0-4\n1         0-4\n2         0-4\n3         0-4\n4         0-4\n         ... \n115375    NaN\n115376    NaN\n115377    NaN\n115378    NaN\n115379    NaN\nName: age, Length: 115380, dtype: object"
     },
     "execution_count": 11,
     "metadata": {},
     "output_type": "execute_result"
    }
   ],
   "source": [
    "melted['age']"
   ]
  },
  {
   "cell_type": "code",
   "execution_count": 21,
   "metadata": {},
   "outputs": [],
   "source": [
    "# drop null values in case column\n",
    "final = melted.dropna(subset=['cases'])"
   ]
  },
  {
   "cell_type": "code",
   "execution_count": 13,
   "metadata": {},
   "outputs": [
    {
     "data": {
      "text/plain": "   country  year sexage  cases sex  age\n15      AD  2005    m04    0.0   m  0-4\n16      AD  2006    m04    0.0   m  0-4\n18      AD  2008    m04    0.0   m  0-4\n42      AE  2006    m04    0.0   m  0-4\n43      AE  2007    m04    0.0   m  0-4",
      "text/html": "<div>\n<style scoped>\n    .dataframe tbody tr th:only-of-type {\n        vertical-align: middle;\n    }\n\n    .dataframe tbody tr th {\n        vertical-align: top;\n    }\n\n    .dataframe thead th {\n        text-align: right;\n    }\n</style>\n<table border=\"1\" class=\"dataframe\">\n  <thead>\n    <tr style=\"text-align: right;\">\n      <th></th>\n      <th>country</th>\n      <th>year</th>\n      <th>sexage</th>\n      <th>cases</th>\n      <th>sex</th>\n      <th>age</th>\n    </tr>\n  </thead>\n  <tbody>\n    <tr>\n      <th>15</th>\n      <td>AD</td>\n      <td>2005</td>\n      <td>m04</td>\n      <td>0.0</td>\n      <td>m</td>\n      <td>0-4</td>\n    </tr>\n    <tr>\n      <th>16</th>\n      <td>AD</td>\n      <td>2006</td>\n      <td>m04</td>\n      <td>0.0</td>\n      <td>m</td>\n      <td>0-4</td>\n    </tr>\n    <tr>\n      <th>18</th>\n      <td>AD</td>\n      <td>2008</td>\n      <td>m04</td>\n      <td>0.0</td>\n      <td>m</td>\n      <td>0-4</td>\n    </tr>\n    <tr>\n      <th>42</th>\n      <td>AE</td>\n      <td>2006</td>\n      <td>m04</td>\n      <td>0.0</td>\n      <td>m</td>\n      <td>0-4</td>\n    </tr>\n    <tr>\n      <th>43</th>\n      <td>AE</td>\n      <td>2007</td>\n      <td>m04</td>\n      <td>0.0</td>\n      <td>m</td>\n      <td>0-4</td>\n    </tr>\n  </tbody>\n</table>\n</div>"
     },
     "execution_count": 13,
     "metadata": {},
     "output_type": "execute_result"
    }
   ],
   "source": [
    "final.head()"
   ]
  },
  {
   "cell_type": "code",
   "execution_count": 14,
   "metadata": {},
   "outputs": [
    {
     "data": {
      "text/plain": "   country  year sexage  cases sex  age\n15      AD  2005    m04    0.0   m  0-4\n16      AD  2006    m04    0.0   m  0-4\n18      AD  2008    m04    0.0   m  0-4\n42      AE  2006    m04    0.0   m  0-4\n43      AE  2007    m04    0.0   m  0-4",
      "text/html": "<div>\n<style scoped>\n    .dataframe tbody tr th:only-of-type {\n        vertical-align: middle;\n    }\n\n    .dataframe tbody tr th {\n        vertical-align: top;\n    }\n\n    .dataframe thead th {\n        text-align: right;\n    }\n</style>\n<table border=\"1\" class=\"dataframe\">\n  <thead>\n    <tr style=\"text-align: right;\">\n      <th></th>\n      <th>country</th>\n      <th>year</th>\n      <th>sexage</th>\n      <th>cases</th>\n      <th>sex</th>\n      <th>age</th>\n    </tr>\n  </thead>\n  <tbody>\n    <tr>\n      <th>15</th>\n      <td>AD</td>\n      <td>2005</td>\n      <td>m04</td>\n      <td>0.0</td>\n      <td>m</td>\n      <td>0-4</td>\n    </tr>\n    <tr>\n      <th>16</th>\n      <td>AD</td>\n      <td>2006</td>\n      <td>m04</td>\n      <td>0.0</td>\n      <td>m</td>\n      <td>0-4</td>\n    </tr>\n    <tr>\n      <th>18</th>\n      <td>AD</td>\n      <td>2008</td>\n      <td>m04</td>\n      <td>0.0</td>\n      <td>m</td>\n      <td>0-4</td>\n    </tr>\n    <tr>\n      <th>42</th>\n      <td>AE</td>\n      <td>2006</td>\n      <td>m04</td>\n      <td>0.0</td>\n      <td>m</td>\n      <td>0-4</td>\n    </tr>\n    <tr>\n      <th>43</th>\n      <td>AE</td>\n      <td>2007</td>\n      <td>m04</td>\n      <td>0.0</td>\n      <td>m</td>\n      <td>0-4</td>\n    </tr>\n  </tbody>\n</table>\n</div>"
     },
     "execution_count": 14,
     "metadata": {},
     "output_type": "execute_result"
    }
   ],
   "source": [
    "# Sort values in DataFrame\n",
    "final.sort_values(['country','year','age','sex'])\n",
    "final.head()"
   ]
  },
  {
   "cell_type": "code",
   "execution_count": 22,
   "metadata": {},
   "outputs": [],
   "source": [
    "# Drop unnecesarry column\n",
    "final = final[['country','year','age','sex','cases']]"
   ]
  },
  {
   "cell_type": "code",
   "execution_count": 16,
   "metadata": {},
   "outputs": [
    {
     "data": {
      "text/plain": "    country  year  age sex  cases\n15       AD  2005  0-4   m    0.0\n16       AD  2006  0-4   m    0.0\n18       AD  2008  0-4   m    0.0\n42       AE  2006  0-4   m    0.0\n43       AE  2007  0-4   m    0.0\n44       AE  2008  0-4   m    0.0\n94       AG  2007  0-4   m    0.0\n141      AL  2005  0-4   m    0.0\n142      AL  2006  0-4   m    1.0\n143      AL  2007  0-4   m    0.0",
      "text/html": "<div>\n<style scoped>\n    .dataframe tbody tr th:only-of-type {\n        vertical-align: middle;\n    }\n\n    .dataframe tbody tr th {\n        vertical-align: top;\n    }\n\n    .dataframe thead th {\n        text-align: right;\n    }\n</style>\n<table border=\"1\" class=\"dataframe\">\n  <thead>\n    <tr style=\"text-align: right;\">\n      <th></th>\n      <th>country</th>\n      <th>year</th>\n      <th>age</th>\n      <th>sex</th>\n      <th>cases</th>\n    </tr>\n  </thead>\n  <tbody>\n    <tr>\n      <th>15</th>\n      <td>AD</td>\n      <td>2005</td>\n      <td>0-4</td>\n      <td>m</td>\n      <td>0.0</td>\n    </tr>\n    <tr>\n      <th>16</th>\n      <td>AD</td>\n      <td>2006</td>\n      <td>0-4</td>\n      <td>m</td>\n      <td>0.0</td>\n    </tr>\n    <tr>\n      <th>18</th>\n      <td>AD</td>\n      <td>2008</td>\n      <td>0-4</td>\n      <td>m</td>\n      <td>0.0</td>\n    </tr>\n    <tr>\n      <th>42</th>\n      <td>AE</td>\n      <td>2006</td>\n      <td>0-4</td>\n      <td>m</td>\n      <td>0.0</td>\n    </tr>\n    <tr>\n      <th>43</th>\n      <td>AE</td>\n      <td>2007</td>\n      <td>0-4</td>\n      <td>m</td>\n      <td>0.0</td>\n    </tr>\n    <tr>\n      <th>44</th>\n      <td>AE</td>\n      <td>2008</td>\n      <td>0-4</td>\n      <td>m</td>\n      <td>0.0</td>\n    </tr>\n    <tr>\n      <th>94</th>\n      <td>AG</td>\n      <td>2007</td>\n      <td>0-4</td>\n      <td>m</td>\n      <td>0.0</td>\n    </tr>\n    <tr>\n      <th>141</th>\n      <td>AL</td>\n      <td>2005</td>\n      <td>0-4</td>\n      <td>m</td>\n      <td>0.0</td>\n    </tr>\n    <tr>\n      <th>142</th>\n      <td>AL</td>\n      <td>2006</td>\n      <td>0-4</td>\n      <td>m</td>\n      <td>1.0</td>\n    </tr>\n    <tr>\n      <th>143</th>\n      <td>AL</td>\n      <td>2007</td>\n      <td>0-4</td>\n      <td>m</td>\n      <td>0.0</td>\n    </tr>\n  </tbody>\n</table>\n</div>"
     },
     "execution_count": 16,
     "metadata": {},
     "output_type": "execute_result"
    }
   ],
   "source": [
    "final.head(10)"
   ]
  },
  {
   "cell_type": "code",
   "execution_count": 17,
   "metadata": {},
   "outputs": [],
   "source": [
    "# Convert file to csv\n",
    "final.to_csv('final.csv',index=False)"
   ]
  },
  {
   "cell_type": "code",
   "execution_count": 18,
   "metadata": {},
   "outputs": [
    {
     "data": {
      "text/plain": "      country  year  age sex  cases\n0          AD  2005  0-4   m    0.0\n1          AD  2006  0-4   m    0.0\n2          AD  2008  0-4   m    0.0\n3          AE  2006  0-4   m    0.0\n4          AE  2007  0-4   m    0.0\n...       ...   ...  ...  ..    ...\n35745      VU  2008  NaN   f    0.0\n35746      YE  2008  NaN   f    0.0\n35747      ZA  2008  NaN   f    0.0\n35748      ZM  2008  NaN   f    0.0\n35749      ZW  2008  NaN   f    0.0\n\n[35750 rows x 5 columns]",
      "text/html": "<div>\n<style scoped>\n    .dataframe tbody tr th:only-of-type {\n        vertical-align: middle;\n    }\n\n    .dataframe tbody tr th {\n        vertical-align: top;\n    }\n\n    .dataframe thead th {\n        text-align: right;\n    }\n</style>\n<table border=\"1\" class=\"dataframe\">\n  <thead>\n    <tr style=\"text-align: right;\">\n      <th></th>\n      <th>country</th>\n      <th>year</th>\n      <th>age</th>\n      <th>sex</th>\n      <th>cases</th>\n    </tr>\n  </thead>\n  <tbody>\n    <tr>\n      <th>0</th>\n      <td>AD</td>\n      <td>2005</td>\n      <td>0-4</td>\n      <td>m</td>\n      <td>0.0</td>\n    </tr>\n    <tr>\n      <th>1</th>\n      <td>AD</td>\n      <td>2006</td>\n      <td>0-4</td>\n      <td>m</td>\n      <td>0.0</td>\n    </tr>\n    <tr>\n      <th>2</th>\n      <td>AD</td>\n      <td>2008</td>\n      <td>0-4</td>\n      <td>m</td>\n      <td>0.0</td>\n    </tr>\n    <tr>\n      <th>3</th>\n      <td>AE</td>\n      <td>2006</td>\n      <td>0-4</td>\n      <td>m</td>\n      <td>0.0</td>\n    </tr>\n    <tr>\n      <th>4</th>\n      <td>AE</td>\n      <td>2007</td>\n      <td>0-4</td>\n      <td>m</td>\n      <td>0.0</td>\n    </tr>\n    <tr>\n      <th>...</th>\n      <td>...</td>\n      <td>...</td>\n      <td>...</td>\n      <td>...</td>\n      <td>...</td>\n    </tr>\n    <tr>\n      <th>35745</th>\n      <td>VU</td>\n      <td>2008</td>\n      <td>NaN</td>\n      <td>f</td>\n      <td>0.0</td>\n    </tr>\n    <tr>\n      <th>35746</th>\n      <td>YE</td>\n      <td>2008</td>\n      <td>NaN</td>\n      <td>f</td>\n      <td>0.0</td>\n    </tr>\n    <tr>\n      <th>35747</th>\n      <td>ZA</td>\n      <td>2008</td>\n      <td>NaN</td>\n      <td>f</td>\n      <td>0.0</td>\n    </tr>\n    <tr>\n      <th>35748</th>\n      <td>ZM</td>\n      <td>2008</td>\n      <td>NaN</td>\n      <td>f</td>\n      <td>0.0</td>\n    </tr>\n    <tr>\n      <th>35749</th>\n      <td>ZW</td>\n      <td>2008</td>\n      <td>NaN</td>\n      <td>f</td>\n      <td>0.0</td>\n    </tr>\n  </tbody>\n</table>\n<p>35750 rows × 5 columns</p>\n</div>"
     },
     "execution_count": 18,
     "metadata": {},
     "output_type": "execute_result"
    }
   ],
   "source": [
    "pd.read_csv('final.csv')"
   ]
  },
  {
   "cell_type": "code",
   "execution_count": 18,
   "metadata": {},
   "outputs": [],
   "source": []
  }
 ],
 "metadata": {
  "kernelspec": {
   "display_name": "Python 3",
   "language": "python",
   "name": "python3"
  },
  "language_info": {
   "codemirror_mode": {
    "name": "ipython",
    "version": 3
   },
   "file_extension": ".py",
   "mimetype": "text/x-python",
   "name": "python",
   "nbconvert_exporter": "python",
   "pygments_lexer": "ipython3",
   "version": "3.6.4"
  },
  "toc": {
   "base_numbering": 1,
   "nav_menu": {},
   "number_sections": true,
   "sideBar": true,
   "skip_h1_title": false,
   "title_cell": "Table of Contents",
   "title_sidebar": "Contents",
   "toc_cell": false,
   "toc_position": {},
   "toc_section_display": true,
   "toc_window_display": false
  }
 },
 "nbformat": 4,
 "nbformat_minor": 2
}
{
 "cells": [
  {
   "cell_type": "markdown",
   "metadata": {},
   "source": [
    "## Python statistics essential training - 03_02_distributions"
   ]
  },
  {
   "cell_type": "markdown",
   "metadata": {},
   "source": [
    "Standard imports"
   ]
  },
  {
   "cell_type": "code",
   "execution_count": 2,
   "metadata": {},
   "outputs": [],
   "source": [
    "import numpy as np\n",
    "import scipy.stats\n",
    "import pandas as pd"
   ]
  },
  {
   "cell_type": "code",
   "execution_count": 3,
   "metadata": {},
   "outputs": [],
   "source": [
    "import matplotlib\n",
    "import matplotlib.pyplot as pp\n",
    "\n",
    "from IPython import display\n",
    "from ipywidgets import interact, widgets\n",
    "\n",
    "%matplotlib inline"
   ]
  },
  {
   "cell_type": "code",
   "execution_count": 4,
   "metadata": {},
   "outputs": [],
   "source": [
    "import re\n",
    "import mailbox\n",
    "import csv"
   ]
  },
  {
   "cell_type": "code",
   "execution_count": 5,
   "metadata": {},
   "outputs": [],
   "source": [
    "china1965 = pd.read_csv('income-1965-china.csv')\n",
    "china2015 = pd.read_csv('income-2015-china.csv')\n",
    "usa1965 = pd.read_csv('income-1965-usa.csv')\n",
    "usa2015 = pd.read_csv('income-2015-usa.csv')"
   ]
  },
  {
   "cell_type": "code",
   "execution_count": 6,
   "metadata": {},
   "outputs": [
    {
     "name": "stdout",
     "output_type": "stream",
     "text": [
      "<class 'pandas.core.frame.DataFrame'>\n",
      "RangeIndex: 1000 entries, 0 to 999\n",
      "Data columns (total 2 columns):\n",
      " #   Column        Non-Null Count  Dtype  \n",
      "---  ------        --------------  -----  \n",
      " 0   income        1000 non-null   float64\n",
      " 1   log10_income  1000 non-null   float64\n",
      "dtypes: float64(2)\n",
      "memory usage: 15.8 KB\n"
     ]
    }
   ],
   "source": [
    "# Information on the DataFrame\n",
    "china1965.info()"
   ]
  },
  {
   "cell_type": "code",
   "execution_count": 7,
   "metadata": {},
   "outputs": [
    {
     "data": {
      "text/plain": "     income  log10_income\n0  1.026259      0.011257\n1  0.912053     -0.039980\n2  0.110699     -0.955857\n3  0.469659     -0.328217\n4  0.374626     -0.426402",
      "text/html": "<div>\n<style scoped>\n    .dataframe tbody tr th:only-of-type {\n        vertical-align: middle;\n    }\n\n    .dataframe tbody tr th {\n        vertical-align: top;\n    }\n\n    .dataframe thead th {\n        text-align: right;\n    }\n</style>\n<table border=\"1\" class=\"dataframe\">\n  <thead>\n    <tr style=\"text-align: right;\">\n      <th></th>\n      <th>income</th>\n      <th>log10_income</th>\n    </tr>\n  </thead>\n  <tbody>\n    <tr>\n      <th>0</th>\n      <td>1.026259</td>\n      <td>0.011257</td>\n    </tr>\n    <tr>\n      <th>1</th>\n      <td>0.912053</td>\n      <td>-0.039980</td>\n    </tr>\n    <tr>\n      <th>2</th>\n      <td>0.110699</td>\n      <td>-0.955857</td>\n    </tr>\n    <tr>\n      <th>3</th>\n      <td>0.469659</td>\n      <td>-0.328217</td>\n    </tr>\n    <tr>\n      <th>4</th>\n      <td>0.374626</td>\n      <td>-0.426402</td>\n    </tr>\n  </tbody>\n</table>\n</div>"
     },
     "execution_count": 7,
     "metadata": {},
     "output_type": "execute_result"
    }
   ],
   "source": [
    "china1965.head()"
   ]
  },
  {
   "cell_type": "code",
   "execution_count": 8,
   "metadata": {},
   "outputs": [
    {
     "data": {
      "text/plain": "income          0.041968\nlog10_income   -1.377078\ndtype: float64"
     },
     "execution_count": 8,
     "metadata": {},
     "output_type": "execute_result"
    }
   ],
   "source": [
    "# Minimum value\n",
    "china1965.min()"
   ]
  },
  {
   "cell_type": "code",
   "execution_count": 9,
   "metadata": {},
   "outputs": [
    {
     "data": {
      "text/plain": "income          5.426802\nlog10_income    0.734544\ndtype: float64"
     },
     "execution_count": 9,
     "metadata": {},
     "output_type": "execute_result"
    }
   ],
   "source": [
    "# Maximum value\n",
    "china1965.max()"
   ]
  },
  {
   "cell_type": "code",
   "execution_count": 10,
   "metadata": {},
   "outputs": [
    {
     "data": {
      "text/plain": "income          0.660597\nlog10_income   -0.274157\ndtype: float64"
     },
     "execution_count": 10,
     "metadata": {},
     "output_type": "execute_result"
    }
   ],
   "source": [
    "# Average values\n",
    "china1965.mean()"
   ]
  },
  {
   "cell_type": "code",
   "execution_count": 11,
   "metadata": {},
   "outputs": [
    {
     "data": {
      "text/plain": "income          0.208846\nlog10_income    0.088610\ndtype: float64"
     },
     "execution_count": 11,
     "metadata": {},
     "output_type": "execute_result"
    }
   ],
   "source": [
    "# Variance of the data\n",
    "china1965.var(ddof=0)"
   ]
  },
  {
   "cell_type": "code",
   "execution_count": 12,
   "metadata": {},
   "outputs": [
    {
     "data": {
      "text/plain": "        income  log10_income\n0.25  0.344130     -0.463277\n0.75  0.863695     -0.063640",
      "text/html": "<div>\n<style scoped>\n    .dataframe tbody tr th:only-of-type {\n        vertical-align: middle;\n    }\n\n    .dataframe tbody tr th {\n        vertical-align: top;\n    }\n\n    .dataframe thead th {\n        text-align: right;\n    }\n</style>\n<table border=\"1\" class=\"dataframe\">\n  <thead>\n    <tr style=\"text-align: right;\">\n      <th></th>\n      <th>income</th>\n      <th>log10_income</th>\n    </tr>\n  </thead>\n  <tbody>\n    <tr>\n      <th>0.25</th>\n      <td>0.344130</td>\n      <td>-0.463277</td>\n    </tr>\n    <tr>\n      <th>0.75</th>\n      <td>0.863695</td>\n      <td>-0.063640</td>\n    </tr>\n  </tbody>\n</table>\n</div>"
     },
     "execution_count": 12,
     "metadata": {},
     "output_type": "execute_result"
    }
   ],
   "source": [
    "# The 25th and 75th quantile\n",
    "china1965.quantile([0.25,0.75])"
   ]
  },
  {
   "cell_type": "code",
   "execution_count": 13,
   "metadata": {},
   "outputs": [
    {
     "data": {
      "text/plain": "income          0.557477\nlog10_income   -0.253773\nName: 0.5, dtype: float64"
     },
     "execution_count": 13,
     "metadata": {},
     "output_type": "execute_result"
    }
   ],
   "source": [
    "# The 50th quantile\n",
    "china1965.quantile(0.5)"
   ]
  },
  {
   "cell_type": "code",
   "execution_count": 14,
   "metadata": {},
   "outputs": [
    {
     "data": {
      "text/plain": "income          0.557477\nlog10_income   -0.253773\ndtype: float64"
     },
     "execution_count": 14,
     "metadata": {},
     "output_type": "execute_result"
    }
   ],
   "source": [
    "# Same as 50 quantile\n",
    "china1965.median()"
   ]
  },
  {
   "cell_type": "code",
   "execution_count": 15,
   "metadata": {},
   "outputs": [
    {
     "data": {
      "text/plain": "95.5"
     },
     "execution_count": 15,
     "metadata": {},
     "output_type": "execute_result"
    }
   ],
   "source": [
    "# The percentile score of a variable\n",
    "scipy.stats.percentileofscore(china1965.income,1.5)"
   ]
  },
  {
   "cell_type": "code",
   "execution_count": 16,
   "metadata": {},
   "outputs": [
    {
     "data": {
      "text/plain": "            income  log10_income\ncount  1000.000000   1000.000000\nmean      0.660597     -0.274157\nstd       0.457226      0.297822\nmin       0.041968     -1.377078\n25%       0.344130     -0.463277\n50%       0.557477     -0.253773\n75%       0.863695     -0.063640\nmax       5.426802      0.734544",
      "text/html": "<div>\n<style scoped>\n    .dataframe tbody tr th:only-of-type {\n        vertical-align: middle;\n    }\n\n    .dataframe tbody tr th {\n        vertical-align: top;\n    }\n\n    .dataframe thead th {\n        text-align: right;\n    }\n</style>\n<table border=\"1\" class=\"dataframe\">\n  <thead>\n    <tr style=\"text-align: right;\">\n      <th></th>\n      <th>income</th>\n      <th>log10_income</th>\n    </tr>\n  </thead>\n  <tbody>\n    <tr>\n      <th>count</th>\n      <td>1000.000000</td>\n      <td>1000.000000</td>\n    </tr>\n    <tr>\n      <th>mean</th>\n      <td>0.660597</td>\n      <td>-0.274157</td>\n    </tr>\n    <tr>\n      <th>std</th>\n      <td>0.457226</td>\n      <td>0.297822</td>\n    </tr>\n    <tr>\n      <th>min</th>\n      <td>0.041968</td>\n      <td>-1.377078</td>\n    </tr>\n    <tr>\n      <th>25%</th>\n      <td>0.344130</td>\n      <td>-0.463277</td>\n    </tr>\n    <tr>\n      <th>50%</th>\n      <td>0.557477</td>\n      <td>-0.253773</td>\n    </tr>\n    <tr>\n      <th>75%</th>\n      <td>0.863695</td>\n      <td>-0.063640</td>\n    </tr>\n    <tr>\n      <th>max</th>\n      <td>5.426802</td>\n      <td>0.734544</td>\n    </tr>\n  </tbody>\n</table>\n</div>"
     },
     "execution_count": 16,
     "metadata": {},
     "output_type": "execute_result"
    }
   ],
   "source": [
    "# Summary statistics for china 1965\n",
    "china1965.describe()"
   ]
  },
  {
   "cell_type": "code",
   "execution_count": 17,
   "metadata": {},
   "outputs": [
    {
     "data": {
      "text/plain": "            income  log10_income\ncount  1000.000000   1000.000000\nmean     31.587965      1.418835\nstd      22.101531      0.262200\nmin       4.177852      0.620953\n25%      17.498592      1.243003\n50%      26.069531      1.416133\n75%      39.017113      1.591255\nmax     246.030397      2.390989",
      "text/html": "<div>\n<style scoped>\n    .dataframe tbody tr th:only-of-type {\n        vertical-align: middle;\n    }\n\n    .dataframe tbody tr th {\n        vertical-align: top;\n    }\n\n    .dataframe thead th {\n        text-align: right;\n    }\n</style>\n<table border=\"1\" class=\"dataframe\">\n  <thead>\n    <tr style=\"text-align: right;\">\n      <th></th>\n      <th>income</th>\n      <th>log10_income</th>\n    </tr>\n  </thead>\n  <tbody>\n    <tr>\n      <th>count</th>\n      <td>1000.000000</td>\n      <td>1000.000000</td>\n    </tr>\n    <tr>\n      <th>mean</th>\n      <td>31.587965</td>\n      <td>1.418835</td>\n    </tr>\n    <tr>\n      <th>std</th>\n      <td>22.101531</td>\n      <td>0.262200</td>\n    </tr>\n    <tr>\n      <th>min</th>\n      <td>4.177852</td>\n      <td>0.620953</td>\n    </tr>\n    <tr>\n      <th>25%</th>\n      <td>17.498592</td>\n      <td>1.243003</td>\n    </tr>\n    <tr>\n      <th>50%</th>\n      <td>26.069531</td>\n      <td>1.416133</td>\n    </tr>\n    <tr>\n      <th>75%</th>\n      <td>39.017113</td>\n      <td>1.591255</td>\n    </tr>\n    <tr>\n      <th>max</th>\n      <td>246.030397</td>\n      <td>2.390989</td>\n    </tr>\n  </tbody>\n</table>\n</div>"
     },
     "execution_count": 17,
     "metadata": {},
     "output_type": "execute_result"
    }
   ],
   "source": [
    "# Summary statistics for  usa 1965\n",
    "usa1965.describe()"
   ]
  },
  {
   "cell_type": "code",
   "execution_count": 17,
   "metadata": {},
   "outputs": [],
   "source": []
  }
 ],
 "metadata": {
  "kernelspec": {
   "display_name": "Python 3",
   "language": "python",
   "name": "python3"
  },
  "language_info": {
   "codemirror_mode": {
    "name": "ipython",
    "version": 3
   },
   "file_extension": ".py",
   "mimetype": "text/x-python",
   "name": "python",
   "nbconvert_exporter": "python",
   "pygments_lexer": "ipython3",
   "version": "3.6.4"
  },
  "toc": {
   "base_numbering": 1,
   "nav_menu": {},
   "number_sections": true,
   "sideBar": true,
   "skip_h1_title": false,
   "title_cell": "Table of Contents",
   "title_sidebar": "Contents",
   "toc_cell": false,
   "toc_position": {},
   "toc_section_display": true,
   "toc_window_display": false
  }
 },
 "nbformat": 4,
 "nbformat_minor": 2
}